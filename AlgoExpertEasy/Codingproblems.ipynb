{
 "cells": [
  {
   "cell_type": "code",
   "execution_count": 1,
   "id": "20383f8e",
   "metadata": {},
   "outputs": [
    {
     "name": "stdout",
     "output_type": "stream",
     "text": [
      "[11, -1]\n"
     ]
    }
   ],
   "source": [
    "#Two-number-sum\n",
    "\n",
    "def twoNumberSum(array, targetSum):\n",
    "    # Write your code here.\n",
    "    for i in range(len(array)-1):\n",
    "        firstNum = array[i]\n",
    "        for j in range(i+1, len(array)):\n",
    "            secondNum = array[j]\n",
    "            if firstNum + secondNum == targetSum:\n",
    "               return [firstNum, secondNum]\n",
    "    return []\n",
    "\n",
    "# Example usage:\n",
    "\n",
    "numbers = [3,5,-4,8,11,1,-1,6]\n",
    "target_sum = 10\n",
    "result = twoNumberSum(numbers, target_sum)\n",
    "print(result)"
   ]
  },
  {
   "cell_type": "code",
   "execution_count": 11,
   "id": "4e6b4e48",
   "metadata": {},
   "outputs": [
    {
     "name": "stdout",
     "output_type": "stream",
     "text": [
      "True\n"
     ]
    }
   ],
   "source": [
    "# Validate subsequence\n",
    "\n",
    "def isValidSubsequence(array, sequence):\n",
    "    arrIndx = 0\n",
    "    seqIndx = 0\n",
    "    while arrIndx < len(array) and seqIndx < len(sequence):\n",
    "        if array[arrIndx] == sequence[seqIndx]:\n",
    "            seqIndx += 1\n",
    "            #print(seqIndx)\n",
    "        arrIndx+=1  \n",
    "    return seqIndx == len(sequence) \n",
    "\n",
    "array = [5, 1, 22, 25, 6, -1, 8, 10]\n",
    "sequence = [1, 22, -1, 10]\n",
    "validsqresult = isValidSubsequence(array, sequence)\n",
    "print(validsqresult)"
   ]
  },
  {
   "cell_type": "code",
   "execution_count": 16,
   "id": "86252191",
   "metadata": {},
   "outputs": [
    {
     "name": "stdout",
     "output_type": "stream",
     "text": [
      "[1, 4, 9, 25, 36, 64, 81]\n"
     ]
    }
   ],
   "source": [
    "# Sorted square array\n",
    "\n",
    "def sortedSquaredArray(array):\n",
    "    sortedSquares = [0 for _ in array]\n",
    "\n",
    "    for indx in range(len(array)):\n",
    "        value = array[indx]\n",
    "        sortedSquares[indx] = value * value\n",
    "\n",
    "    sortedSquares.sort()    \n",
    "    return sortedSquares\n",
    "\n",
    "sortArray = [1,2,3,5,6,8,9]\n",
    "print(sortedSquaredArray(sortArray)) \n"
   ]
  },
  {
   "cell_type": "code",
   "execution_count": 7,
   "id": "9214b5a6",
   "metadata": {},
   "outputs": [
    {
     "name": "stdout",
     "output_type": "stream",
     "text": [
      "3\n",
      "3\n",
      "6\n",
      "Tournament Winner: Python\n"
     ]
    }
   ],
   "source": [
    "# Tournament winner function in python\n",
    "\n",
    "def tournament_winner(matches, results):\n",
    "    scores = {}\n",
    "\n",
    "    for i in range(len(matches)):\n",
    "        home_team, away_team = matches[i]\n",
    "        winner = home_team if results[i] == 1 else away_team\n",
    "\n",
    "        if winner not in scores:\n",
    "            scores[winner] = 0\n",
    "        scores[winner] += 3  # 3 points for a win\n",
    "        print(scores[winner])\n",
    "\n",
    "    # Find the team with the highest score\n",
    "    return max(scores, key=scores.get)\n",
    "\n",
    "# Example usage\n",
    "matches = [\n",
    "    [\"HTML\", \"C#\"],\n",
    "    [\"C#\", \"Python\"],\n",
    "    [\"Python\", \"HTML\"]\n",
    "]\n",
    "\n",
    "results = [1, 0, 1, ]  # 1 means home team won, 0 means away team won\n",
    "\n",
    "winner = tournament_winner(matches, results)\n",
    "print(\"Tournament Winner:\", winner)\n",
    "\n",
    "\n"
   ]
  },
  {
   "cell_type": "code",
   "execution_count": null,
   "id": "a2cfefcf",
   "metadata": {},
   "outputs": [],
   "source": []
  }
 ],
 "metadata": {
  "kernelspec": {
   "display_name": "PythonData",
   "language": "python",
   "name": "pythondata"
  },
  "language_info": {
   "codemirror_mode": {
    "name": "ipython",
    "version": 3
   },
   "file_extension": ".py",
   "mimetype": "text/x-python",
   "name": "python",
   "nbconvert_exporter": "python",
   "pygments_lexer": "ipython3",
   "version": "3.7.11"
  }
 },
 "nbformat": 4,
 "nbformat_minor": 5
}
